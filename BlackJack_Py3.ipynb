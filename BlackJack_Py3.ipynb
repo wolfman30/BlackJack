{
 "cells": [
  {
   "cell_type": "code",
   "execution_count": 7,
   "metadata": {},
   "outputs": [],
   "source": [
    "from random import shuffle #imports only shuffle() to shuffle the card deck\n",
    "\n",
    "#GLOBAL VARIABLES \n",
    "suits = ('Hearts', 'Spades', 'Clubs', 'Diamonds')\n",
    "ranks = ('Two', 'Three', 'Four', 'Five', 'Six', 'Seven', 'Eight', 'Nine', 'Ten', 'Jack', \n",
    "        'Queen', 'King', 'Ace')\n",
    "values = {'Two':2, 'Three': 3, 'Four': 4, 'Five': 5, 'Six':6, 'Seven': 7, 'Eight': 8, \n",
    "          'Nine':9, 'Ten': 10, 'Jack': 11, 'Queen': 12, 'King': 13, 'Ace': 14}"
   ]
  },
  {
   "cell_type": "code",
   "execution_count": 19,
   "metadata": {},
   "outputs": [
    {
     "name": "stdout",
     "output_type": "stream",
     "text": [
      "hearts\n",
      "\n",
      "10\n",
      "\n",
      "['hearts', 'spades', 'clubs', 'diamonds']\n",
      "\n",
      "[2, 3, 4, 5, 6, 7, 8, 9, 10, 11, 12, 13, 14]\n",
      "\n",
      "{'two': 2, 'three': 3, 'four': 4, 'five': 5, 'six': 6, 'seven': 7, 'eight': 8, 'nine': 9, 'ten': 10, 'jack': 11, 'queen': 12, 'king': 13, 'ace': 14}\n"
     ]
    }
   ],
   "source": [
    "class Card():\n",
    "    \n",
    "    def __init__(self, suit, strength):\n",
    "        self.suit = suit\n",
    "        self.strength = strength\n",
    "        \n",
    "card = Card(suit = 'hearts', strength = 10)\n",
    "print(card.suit)\n",
    "print('')\n",
    "print(card.strength)\n",
    "print('')\n",
    "print(card.suits)\n",
    "print('')\n",
    "print(card.strengths)\n",
    "print('')\n",
    "print(card.strengths_dict)"
   ]
  },
  {
   "cell_type": "code",
   "execution_count": 21,
   "metadata": {},
   "outputs": [
    {
     "name": "stdout",
     "output_type": "stream",
     "text": [
      "10\n",
      "\n",
      "['hearts', 'spades', 'clubs', 'diamonds']\n"
     ]
    }
   ],
   "source": [
    "class Deck():\n",
    "    \n",
    "    def __init__(self):\n",
    "        self.all_cards = []\n",
    "    \n",
    "    def deck_shuffle(self, deck):\n",
    "        self.deck = deck\n",
    "        shuffle(self.deck)\n",
    "        return self.deck\n",
    "    \n",
    "deck1 = Deck(suit = Card.suits, strength = 10)\n",
    "print(deck1.strengths_dict['ten'])\n",
    "print()\n",
    "print(deck1.suit)"
   ]
  },
  {
   "cell_type": "code",
   "execution_count": 3,
   "metadata": {},
   "outputs": [],
   "source": [
    "class Player(object):\n",
    "    pass"
   ]
  },
  {
   "cell_type": "code",
   "execution_count": 22,
   "metadata": {},
   "outputs": [],
   "source": [
    "class Chips:\n",
    "    pass\n"
   ]
  },
  {
   "cell_type": "code",
   "execution_count": null,
   "metadata": {},
   "outputs": [],
   "source": []
  }
 ],
 "metadata": {
  "kernelspec": {
   "display_name": "Python 3",
   "language": "python",
   "name": "python3"
  },
  "language_info": {
   "codemirror_mode": {
    "name": "ipython",
    "version": 3
   },
   "file_extension": ".py",
   "mimetype": "text/x-python",
   "name": "python",
   "nbconvert_exporter": "python",
   "pygments_lexer": "ipython3",
   "version": "3.7.1"
  }
 },
 "nbformat": 4,
 "nbformat_minor": 2
}
