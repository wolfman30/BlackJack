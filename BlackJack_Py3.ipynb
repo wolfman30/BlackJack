{
 "cells": [
  {
   "cell_type": "code",
   "execution_count": 7,
   "metadata": {},
   "outputs": [],
   "source": [
    "from random import shuffle"
   ]
  },
  {
   "cell_type": "code",
   "execution_count": 11,
   "metadata": {},
   "outputs": [
    {
     "name": "stdout",
     "output_type": "stream",
     "text": [
      "heart\n",
      "10\n"
     ]
    }
   ],
   "source": [
    "class Card():\n",
    "    \n",
    "    def __init__(self, suit, strength):\n",
    "        self.suit = suit\n",
    "        self.strength = strength\n",
    "        \n",
    "card = Card(suit = 'heart', strength = 10)\n",
    "print(card.suit)\n",
    "print(card.strength)"
   ]
  },
  {
   "cell_type": "code",
   "execution_count": 9,
   "metadata": {},
   "outputs": [],
   "source": [
    "class Deck(object):\n",
    "    def deck_shuffle(deck):\n",
    "        shuffle(deck)\n",
    "        return deck\n",
    "        "
   ]
  },
  {
   "cell_type": "code",
   "execution_count": 3,
   "metadata": {},
   "outputs": [],
   "source": [
    "class Player(object):\n",
    "    pass"
   ]
  },
  {
   "cell_type": "code",
   "execution_count": null,
   "metadata": {},
   "outputs": [],
   "source": [
    "class Game_Logic(object):\n",
    "    \n",
    "    def blackjack(a,b,c): #basic logic of BlackJack\n",
    "        summed = a + b + c\n",
    "        if summed <= 21: \n",
    "            return summed\n",
    "        elif summed > 21 and 11 in [a, b, c]: \n",
    "            summed -= 10\n",
    "            if summed <= 21:\n",
    "                return summed\n",
    "        else:\n",
    "            return 'BUST'"
   ]
  },
  {
   "cell_type": "code",
   "execution_count": null,
   "metadata": {},
   "outputs": [],
   "source": []
  }
 ],
 "metadata": {
  "kernelspec": {
   "display_name": "Python 3",
   "language": "python",
   "name": "python3"
  },
  "language_info": {
   "codemirror_mode": {
    "name": "ipython",
    "version": 3
   },
   "file_extension": ".py",
   "mimetype": "text/x-python",
   "name": "python",
   "nbconvert_exporter": "python",
   "pygments_lexer": "ipython3",
   "version": "3.7.1"
  }
 },
 "nbformat": 4,
 "nbformat_minor": 2
}
