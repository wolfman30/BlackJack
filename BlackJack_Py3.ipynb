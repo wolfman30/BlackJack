{
 "cells": [
  {
   "cell_type": "code",
   "execution_count": 27,
   "metadata": {},
   "outputs": [],
   "source": [
    "from random import shuffle #imports only shuffle() to shuffle the card deck\n",
    "\n",
    "#GLOBAL VARIABLES \n",
    "suits = ('Hearts', 'Spades', 'Clubs', 'Diamonds')\n",
    "ranks = ('Two', 'Three', 'Four', 'Five', 'Six', 'Seven', 'Eight', 'Nine', 'Ten', 'Jack', \n",
    "        'Queen', 'King', 'Ace')\n",
    "values = {'Two':2, 'Three': 3, 'Four': 4, 'Five': 5, 'Six':6, 'Seven': 7, 'Eight': 8, \n",
    "          'Nine':9, 'Ten': 10, 'Jack': 10, 'Queen': 10, 'King': 10, 'Ace': 11}\n",
    "\n",
    "game_active = True"
   ]
  },
  {
   "cell_type": "code",
   "execution_count": 8,
   "metadata": {},
   "outputs": [],
   "source": [
    "class Card():\n",
    "    \n",
    "    def __init__(self, suit, rank):\n",
    "        self.suit = suit\n",
    "        self.rank = rank\n",
    "        self.value = values[rank]\n",
    "        \n",
    "    def __str__(self):\n",
    "        return f\"{self.rank} of {self.suit}\"\n",
    "        \n"
   ]
  },
  {
   "cell_type": "code",
   "execution_count": 10,
   "metadata": {},
   "outputs": [
    {
     "name": "stdout",
     "output_type": "stream",
     "text": [
      "Two of Hearts\n",
      "Hearts\n",
      "Two\n",
      "2\n"
     ]
    }
   ],
   "source": [
    "card = Card('Hearts', 'Two')\n",
    "print(card)\n",
    "print(card.suit)\n",
    "print(card.rank)\n",
    "print(card.value)"
   ]
  },
  {
   "cell_type": "code",
   "execution_count": 23,
   "metadata": {},
   "outputs": [],
   "source": [
    "class Deck:\n",
    "    \n",
    "    def __init__(self):\n",
    "        \n",
    "        self.all_cards = []\n",
    "        \n",
    "        for suit in suits:\n",
    "            for rank in ranks:\n",
    "                self.all_cards.append(Card(suit, rank))\n",
    "    \n",
    "    def shuffle(self):\n",
    "        \n",
    "        shuffle(self.all_cards)\n",
    "        \n",
    "        "
   ]
  },
  {
   "cell_type": "code",
   "execution_count": 24,
   "metadata": {},
   "outputs": [
    {
     "name": "stdout",
     "output_type": "stream",
     "text": [
      "Two of Hearts\n",
      "Three of Hearts\n",
      "Four of Hearts\n",
      "Five of Hearts\n",
      "Six of Hearts\n",
      "Seven of Hearts\n",
      "Eight of Hearts\n",
      "Nine of Hearts\n",
      "Ten of Hearts\n",
      "Jack of Hearts\n",
      "Queen of Hearts\n",
      "King of Hearts\n",
      "Ace of Hearts\n",
      "Two of Spades\n",
      "Three of Spades\n",
      "Four of Spades\n",
      "Five of Spades\n",
      "Six of Spades\n",
      "Seven of Spades\n",
      "Eight of Spades\n",
      "Nine of Spades\n",
      "Ten of Spades\n",
      "Jack of Spades\n",
      "Queen of Spades\n",
      "King of Spades\n",
      "Ace of Spades\n",
      "Two of Clubs\n",
      "Three of Clubs\n",
      "Four of Clubs\n",
      "Five of Clubs\n",
      "Six of Clubs\n",
      "Seven of Clubs\n",
      "Eight of Clubs\n",
      "Nine of Clubs\n",
      "Ten of Clubs\n",
      "Jack of Clubs\n",
      "Queen of Clubs\n",
      "King of Clubs\n",
      "Ace of Clubs\n",
      "Two of Diamonds\n",
      "Three of Diamonds\n",
      "Four of Diamonds\n",
      "Five of Diamonds\n",
      "Six of Diamonds\n",
      "Seven of Diamonds\n",
      "Eight of Diamonds\n",
      "Nine of Diamonds\n",
      "Ten of Diamonds\n",
      "Jack of Diamonds\n",
      "Queen of Diamonds\n",
      "King of Diamonds\n",
      "Ace of Diamonds\n",
      "\n",
      " 52\n",
      "\n",
      "Eight of Diamonds\n",
      "Nine of Clubs\n",
      "Ten of Hearts\n",
      "Eight of Hearts\n",
      "Jack of Clubs\n",
      "Jack of Spades\n",
      "King of Hearts\n",
      "Jack of Diamonds\n",
      "Seven of Spades\n",
      "Four of Spades\n",
      "Ace of Hearts\n",
      "Six of Spades\n",
      "Four of Clubs\n",
      "King of Diamonds\n",
      "Four of Diamonds\n",
      "Eight of Spades\n",
      "Seven of Clubs\n",
      "Queen of Spades\n",
      "Three of Spades\n",
      "Three of Clubs\n",
      "Jack of Hearts\n",
      "Two of Diamonds\n",
      "Ten of Clubs\n",
      "Seven of Hearts\n",
      "Two of Hearts\n",
      "Six of Clubs\n",
      "King of Clubs\n",
      "Queen of Clubs\n",
      "Queen of Diamonds\n",
      "Four of Hearts\n",
      "Three of Diamonds\n",
      "Nine of Hearts\n",
      "Ace of Spades\n",
      "Ace of Clubs\n",
      "Three of Hearts\n",
      "Five of Diamonds\n",
      "Two of Clubs\n",
      "Five of Clubs\n",
      "Nine of Spades\n",
      "Seven of Diamonds\n",
      "Two of Spades\n",
      "Eight of Clubs\n",
      "Six of Hearts\n",
      "Ten of Spades\n",
      "Queen of Hearts\n",
      "Six of Diamonds\n",
      "Nine of Diamonds\n",
      "Five of Spades\n",
      "Five of Hearts\n",
      "Ace of Diamonds\n",
      "King of Spades\n",
      "Ten of Diamonds\n"
     ]
    }
   ],
   "source": [
    "deck = Deck()\n",
    "for i in deck.all_cards:\n",
    "    print (i)\n",
    "\n",
    "print('\\n',len(deck.all_cards))\n",
    "\n",
    "deck.shuffle()\n",
    "print('')\n",
    "for card in deck.all_cards:\n",
    "    print(card)"
   ]
  },
  {
   "cell_type": "code",
   "execution_count": 25,
   "metadata": {},
   "outputs": [],
   "source": [
    "class Player(object):\n",
    "    \n",
    "    def hit(self, new_card):\n",
    "        \n",
    "        if type(new_card) == list:\n",
    "            return self.all_cards.extend(new_card)\n",
    "        \n",
    "        else:\n",
    "            return self.all_cards.append(new_card)"
   ]
  },
  {
   "cell_type": "code",
   "execution_count": 12,
   "metadata": {},
   "outputs": [],
   "source": [
    "class Chips:\n",
    "    pass\n"
   ]
  },
  {
   "cell_type": "code",
   "execution_count": null,
   "metadata": {},
   "outputs": [],
   "source": []
  }
 ],
 "metadata": {
  "kernelspec": {
   "display_name": "Python 3",
   "language": "python",
   "name": "python3"
  },
  "language_info": {
   "codemirror_mode": {
    "name": "ipython",
    "version": 3
   },
   "file_extension": ".py",
   "mimetype": "text/x-python",
   "name": "python",
   "nbconvert_exporter": "python",
   "pygments_lexer": "ipython3",
   "version": "3.7.1"
  }
 },
 "nbformat": 4,
 "nbformat_minor": 2
}
