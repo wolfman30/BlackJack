{
 "cells": [
  {
   "cell_type": "code",
   "execution_count": 27,
   "metadata": {},
   "outputs": [],
   "source": [
    "from random import shuffle #imports only shuffle() to shuffle the card deck\n",
    "\n",
    "#GLOBAL VARIABLES \n",
    "suits = ('Hearts', 'Spades', 'Clubs', 'Diamonds')\n",
    "ranks = ('Two', 'Three', 'Four', 'Five', 'Six', 'Seven', 'Eight', 'Nine', 'Ten', 'Jack', \n",
    "        'Queen', 'King', 'Ace')\n",
    "values = {'Two':2, 'Three': 3, 'Four': 4, 'Five': 5, 'Six':6, 'Seven': 7, 'Eight': 8, \n",
    "          'Nine':9, 'Ten': 10, 'Jack': 10, 'Queen': 10, 'King': 10, 'Ace': 11}\n",
    "\n",
    "game_active = True"
   ]
  },
  {
   "cell_type": "code",
   "execution_count": 8,
   "metadata": {},
   "outputs": [],
   "source": [
    "class Card():\n",
    "    \n",
    "    def __init__(self, suit, rank):\n",
    "        self.suit = suit\n",
    "        self.rank = rank\n",
    "        self.value = values[rank]\n",
    "        \n",
    "    def __str__(self):\n",
    "        return f\"{self.rank} of {self.suit}\"\n",
    "        \n"
   ]
  },
  {
   "cell_type": "code",
   "execution_count": 10,
   "metadata": {},
   "outputs": [
    {
     "name": "stdout",
     "output_type": "stream",
     "text": [
      "Two of Hearts\n",
      "Hearts\n",
      "Two\n",
      "2\n"
     ]
    }
   ],
   "source": [
    "card = Card('Hearts', 'Two')\n",
    "print(card)\n",
    "print(card.suit)\n",
    "print(card.rank)\n",
    "print(card.value)"
   ]
  },
  {
   "cell_type": "code",
   "execution_count": 50,
   "metadata": {},
   "outputs": [],
   "source": [
    "class Deck:\n",
    "    \n",
    "    def __init__(self):\n",
    "        \n",
    "        self.all_cards = []\n",
    "        \n",
    "        for suit in suits:\n",
    "            for rank in ranks:\n",
    "                self.all_cards.append(Card(suit, rank))\n",
    "                \n",
    "    def __str__(self):\n",
    "        \n",
    "        deck = ''\n",
    "        \n",
    "        for card in self.all_cards:\n",
    "            \n",
    "            deck += \"\\n\" + card.__str__()\n",
    "            \n",
    "        return f\"The deck is composed of: {deck}\"\n",
    "    \n",
    "    def shuffle(self):\n",
    "        \n",
    "        shuffle(self.all_cards)\n",
    "        \n",
    "    def deal_card(self):\n",
    "        \n",
    "        return self.all_cards.pop() #takes a single card from the entire card deck"
   ]
  },
  {
   "cell_type": "code",
   "execution_count": 51,
   "metadata": {},
   "outputs": [
    {
     "name": "stdout",
     "output_type": "stream",
     "text": [
      "The deck is composed of: \n",
      "Two of Hearts\n",
      "Three of Hearts\n",
      "Four of Hearts\n",
      "Five of Hearts\n",
      "Six of Hearts\n",
      "Seven of Hearts\n",
      "Eight of Hearts\n",
      "Nine of Hearts\n",
      "Ten of Hearts\n",
      "Jack of Hearts\n",
      "Queen of Hearts\n",
      "King of Hearts\n",
      "Ace of Hearts\n",
      "Two of Spades\n",
      "Three of Spades\n",
      "Four of Spades\n",
      "Five of Spades\n",
      "Six of Spades\n",
      "Seven of Spades\n",
      "Eight of Spades\n",
      "Nine of Spades\n",
      "Ten of Spades\n",
      "Jack of Spades\n",
      "Queen of Spades\n",
      "King of Spades\n",
      "Ace of Spades\n",
      "Two of Clubs\n",
      "Three of Clubs\n",
      "Four of Clubs\n",
      "Five of Clubs\n",
      "Six of Clubs\n",
      "Seven of Clubs\n",
      "Eight of Clubs\n",
      "Nine of Clubs\n",
      "Ten of Clubs\n",
      "Jack of Clubs\n",
      "Queen of Clubs\n",
      "King of Clubs\n",
      "Ace of Clubs\n",
      "Two of Diamonds\n",
      "Three of Diamonds\n",
      "Four of Diamonds\n",
      "Five of Diamonds\n",
      "Six of Diamonds\n",
      "Seven of Diamonds\n",
      "Eight of Diamonds\n",
      "Nine of Diamonds\n",
      "Ten of Diamonds\n",
      "Jack of Diamonds\n",
      "Queen of Diamonds\n",
      "King of Diamonds\n",
      "Ace of Diamonds\n",
      "\n",
      "After shuffling the deck:\n",
      "The deck is composed of: \n",
      "Jack of Spades\n",
      "Six of Diamonds\n",
      "Six of Hearts\n",
      "Nine of Hearts\n",
      "King of Diamonds\n",
      "Seven of Hearts\n",
      "King of Spades\n",
      "Ten of Clubs\n",
      "Five of Hearts\n",
      "Four of Spades\n",
      "Ten of Diamonds\n",
      "Three of Spades\n",
      "King of Clubs\n",
      "Ten of Hearts\n",
      "Eight of Diamonds\n",
      "Seven of Spades\n",
      "Jack of Clubs\n",
      "Three of Clubs\n",
      "Six of Spades\n",
      "Jack of Diamonds\n",
      "Queen of Spades\n",
      "Three of Diamonds\n",
      "Queen of Hearts\n",
      "Eight of Spades\n",
      "Eight of Hearts\n",
      "Four of Diamonds\n",
      "Three of Hearts\n",
      "Ace of Hearts\n",
      "Five of Spades\n",
      "Five of Diamonds\n",
      "Jack of Hearts\n",
      "Ace of Diamonds\n",
      "Nine of Spades\n",
      "Two of Clubs\n",
      "Six of Clubs\n",
      "Eight of Clubs\n",
      "Ace of Clubs\n",
      "Four of Hearts\n",
      "Five of Clubs\n",
      "King of Hearts\n",
      "Ten of Spades\n",
      "Queen of Diamonds\n",
      "Four of Clubs\n",
      "Seven of Clubs\n",
      "Queen of Clubs\n",
      "Seven of Diamonds\n",
      "Two of Diamonds\n",
      "Nine of Diamonds\n",
      "Ace of Spades\n",
      "Two of Hearts\n",
      "Nine of Clubs\n",
      "Two of Spades\n"
     ]
    }
   ],
   "source": [
    "deck = Deck()\n",
    "print(deck)\n",
    "print(\"\")\n",
    "deck.shuffle()\n",
    "print('After shuffling the deck:')\n",
    "print(deck)"
   ]
  },
  {
   "cell_type": "code",
   "execution_count": 52,
   "metadata": {},
   "outputs": [],
   "source": [
    "class Hand:\n",
    "    \n",
    "    def __init__(self):\n",
    "        self.cards = []\n",
    "        self.value = 0\n",
    "        self.aces = 0\n",
    "        \n",
    "    def add_card(self, card):\n",
    "        '''\n",
    "        card passed into function from Deck.deal_card()\n",
    "        that grabs one of the 52 Card objects: one Card(suit, rank)\n",
    "        '''\n",
    "        self.cards.append(card)\n",
    "        self.value += values[card.rank]\n",
    "        \n",
    "        if card.rank == 'Ace':\n",
    "            self.aces += 1\n",
    "    \n",
    "    def ace_adjust(self):\n",
    "        \n",
    "        '''\n",
    "        When the total value of the hand is greater than 21 and there is an ace in the hand, \n",
    "        subtract 10 from the total value since the ace can be either a 1 or 11 (starts as an 11).\n",
    "        Further, take away an ace since this card was used. \n",
    "        \n",
    "        We are treating the self.aces as a Boolean value, although it is an integer. If it refers to zero,\n",
    "        then that means the while loop does not run. 0 acts as the False Boolean value. \n",
    "        '''\n",
    "        \n",
    "        while self.value > 21 and self.aces: \n",
    "            self.value -= 10\n",
    "            self.aces -= 1\n",
    "            \n",
    "        "
   ]
  },
  {
   "cell_type": "code",
   "execution_count": 57,
   "metadata": {},
   "outputs": [
    {
     "name": "stdout",
     "output_type": "stream",
     "text": [
      "Eight of Diamonds\n",
      "8\n",
      "18\n"
     ]
    }
   ],
   "source": [
    "deck = Deck()\n",
    "deck.shuffle()\n",
    "\n",
    "test_player = Hand()\n",
    "card = deck.deal_card()\n",
    "print(card)\n",
    "test_player.add_card(card)\n",
    "print(test_player.value)\n",
    "test_player.add_card(deck.deal_card())\n",
    "print(test_player.value)"
   ]
  },
  {
   "cell_type": "code",
   "execution_count": 3,
   "metadata": {},
   "outputs": [],
   "source": [
    "class Chips:\n",
    "    def __init__(self):\n",
    "        self.total = 100\n",
    "        self.bet = 0 #updated by take_bet() function\n",
    "        \n",
    "    def win_bet(self):\n",
    "        self.total += self.bet\n",
    "        \n",
    "    def lose_bet(self):\n",
    "        self.total -= self.bet\n"
   ]
  },
  {
   "cell_type": "code",
   "execution_count": 4,
   "metadata": {},
   "outputs": [],
   "source": [
    "def take_bet(chips):\n",
    "    \n",
    "    while True: \n",
    "        \n",
    "        try: \n",
    "            chips.bet = int(input('How much do you wnat to bet?'))\n",
    "        \n",
    "        except:\n",
    "            print(\"Need an integer. Try again. \")\n",
    "        \n",
    "        else: \n",
    "            \n",
    "            if chips.bet > chips.total:\n",
    "                print(f\"You only have {chips.total}. Try a lower number.\")\n",
    "                \n",
    "            else:\n",
    "                break"
   ]
  },
  {
   "cell_type": "code",
   "execution_count": 5,
   "metadata": {},
   "outputs": [
    {
     "name": "stdout",
     "output_type": "stream",
     "text": [
      "How much do you wnat to bet?101\n",
      "You only have 100\n",
      "How much do you wnat to bet?110\n",
      "You only have 100\n",
      "How much do you wnat to bet?90\n"
     ]
    }
   ],
   "source": [
    "chips = Chips()\n",
    "take_bet(chips)"
   ]
  },
  {
   "cell_type": "code",
   "execution_count": 25,
   "metadata": {},
   "outputs": [],
   "source": [
    "\"\"\"class Player(object):\n",
    "    \n",
    "    def hit(self, new_card):\n",
    "        \n",
    "        if type(new_card) == list:\n",
    "            return self.all_cards.extend(new_card)\n",
    "        \n",
    "        else:\n",
    "            return self.all_cards.append(new_card)\"\"\""
   ]
  },
  {
   "cell_type": "code",
   "execution_count": null,
   "metadata": {},
   "outputs": [],
   "source": []
  }
 ],
 "metadata": {
  "kernelspec": {
   "display_name": "Python 3",
   "language": "python",
   "name": "python3"
  },
  "language_info": {
   "codemirror_mode": {
    "name": "ipython",
    "version": 3
   },
   "file_extension": ".py",
   "mimetype": "text/x-python",
   "name": "python",
   "nbconvert_exporter": "python",
   "pygments_lexer": "ipython3",
   "version": "3.7.1"
  }
 },
 "nbformat": 4,
 "nbformat_minor": 2
}
