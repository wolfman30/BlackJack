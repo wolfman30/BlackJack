{
 "cells": [
  {
   "cell_type": "code",
   "execution_count": 7,
   "metadata": {},
   "outputs": [],
   "source": [
    "from random import shuffle"
   ]
  },
  {
   "cell_type": "code",
   "execution_count": 1,
   "metadata": {},
   "outputs": [
    {
     "name": "stdout",
     "output_type": "stream",
     "text": [
      "hearts\n",
      "10\n"
     ]
    }
   ],
   "source": [
    "class Card():\n",
    "    \n",
    "    #CLASS OBJECT ATTRIBUTES\n",
    "    suits = ['hearts', 'spades', 'clubs', 'diamonds']\n",
    "    strengths = list(range(2, 15)) #strengths from 2 to 14 which is an Ace\n",
    "    \n",
    "    def __init__(self, suit, strength):\n",
    "        self.suit = suit\n",
    "        self.strength = strength\n",
    "        \n",
    "card = Card(suit = 'hearts', strength = 10)\n",
    "print(card.suit)\n",
    "print(card.strength)"
   ]
  },
  {
   "cell_type": "code",
   "execution_count": 2,
   "metadata": {},
   "outputs": [
    {
     "data": {
      "text/plain": [
       "['hearts', 'spades', 'clubs', 'diamonds']"
      ]
     },
     "execution_count": 2,
     "metadata": {},
     "output_type": "execute_result"
    }
   ],
   "source": [
    "card.suits"
   ]
  },
  {
   "cell_type": "code",
   "execution_count": 3,
   "metadata": {},
   "outputs": [
    {
     "data": {
      "text/plain": [
       "[2, 3, 4, 5, 6, 7, 8, 9, 10, 11, 12, 13, 14]"
      ]
     },
     "execution_count": 3,
     "metadata": {},
     "output_type": "execute_result"
    }
   ],
   "source": [
    "card.strengths"
   ]
  },
  {
   "cell_type": "code",
   "execution_count": 9,
   "metadata": {},
   "outputs": [],
   "source": [
    "class Deck(object):\n",
    "    def deck_shuffle(deck):\n",
    "        shuffle(deck)\n",
    "        return deck\n",
    "        "
   ]
  },
  {
   "cell_type": "code",
   "execution_count": 3,
   "metadata": {},
   "outputs": [],
   "source": [
    "class Player(object):\n",
    "    pass"
   ]
  },
  {
   "cell_type": "code",
   "execution_count": null,
   "metadata": {},
   "outputs": [],
   "source": [
    "class Game_Logic(object):\n",
    "    \n",
    "    def blackjack(a,b,c): #basic logic of BlackJack\n",
    "        summed = a + b + c\n",
    "        if summed <= 21: \n",
    "            return summed\n",
    "        elif summed > 21 and 11 in [a, b, c]: \n",
    "            summed -= 10\n",
    "            if summed <= 21:\n",
    "                return summed\n",
    "        else:\n",
    "            return 'BUST'"
   ]
  },
  {
   "cell_type": "code",
   "execution_count": null,
   "metadata": {},
   "outputs": [],
   "source": []
  }
 ],
 "metadata": {
  "kernelspec": {
   "display_name": "Python 3",
   "language": "python",
   "name": "python3"
  },
  "language_info": {
   "codemirror_mode": {
    "name": "ipython",
    "version": 3
   },
   "file_extension": ".py",
   "mimetype": "text/x-python",
   "name": "python",
   "nbconvert_exporter": "python",
   "pygments_lexer": "ipython3",
   "version": "3.7.1"
  }
 },
 "nbformat": 4,
 "nbformat_minor": 2
}
